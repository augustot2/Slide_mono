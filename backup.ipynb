{
 "cells": [
  {
   "cell_type": "markdown",
   "metadata": {
    "slideshow": {
     "slide_type": "slide"
    }
   },
   "source": [
    "# Método espectral\n",
    "Diferentemente do método das diferenças finitas, que considera apenas os pontos próximos do ponto\n",
    "que queremos computar chamada de método local, o método espectral considera todo o domínio,\n",
    "sendo assim um método global.\n"
   ]
  },
  {
   "cell_type": "markdown",
   "metadata": {
    "slideshow": {
     "slide_type": "slide"
    }
   },
   "source": [
    "# Método espectral\n",
    "\\begin{align}\n",
    " P_n(x_i) &= f(x_i)\\\\\n",
    " P_n(x) &\\equiv \\sum_{i = 0}^{N} f(x_i)C_i(x) \n",
    "\\end{align}"
   ]
  },
  {
   "cell_type": "markdown",
   "metadata": {
    "slideshow": {
     "slide_type": "slide"
    }
   },
   "source": [
    "# Método espectral\n",
    "\n",
    "onde $C_i$ pode ser um polinômio base de Lagrange ou qualquer outro polinômio interpolador.\n",
    "\\begin{equation}\n",
    "C_i(x) = \\prod_{j = 0 \\\\ j \\neq i}^{N} \\frac{x - x_j}{x_i - x_j} \n",
    "\\end{equation} \n"
   ]
  },
  {
   "cell_type": "markdown",
   "metadata": {
    "slideshow": {
     "slide_type": "slide"
    }
   },
   "source": [
    "# Método espectral\n",
    "\n",
    "Exemplo para um polinômio de lagrange para 6 pontos:\n",
    "<img src= \"./Figuras/exemplo_polinomio_lagrange.png\">"
   ]
  },
  {
   "cell_type": "markdown",
   "metadata": {
    "slideshow": {
     "slide_type": "slide"
    }
   },
   "source": [
    "# Porém, essa interpolação nem sempre dá certo. -Carl Runge\n",
    "\n",
    "<img src= \"./Figuras/fenomeno_runge.png\" width=850 >\n"
   ]
  },
  {
   "cell_type": "markdown",
   "metadata": {
    "slideshow": {
     "slide_type": "slide"
    }
   },
   "source": [
    "# Fenômeno de Runge\n",
    "Para minimizar esses erros, temos que achar raízes de polinômios que minimizem o erro de interpolação da função:\n",
    "## Teorema de cauchy:\n",
    "\\begin{equation}\n",
    " f(x) - P_{N+1}(x) = \\frac{1}{[N+1]!}f^{(N+1)}(\\epsilon){\\color{Red}{ \\prod^{N}_{i = 0} (x - x_i)}} \\\\\n",
    "  \\epsilon(x) \\in [-1,1].\n",
    "  \\end{equation}\n",
    "\n"
   ]
  },
  {
   "cell_type": "markdown",
   "metadata": {
    "slideshow": {
     "slide_type": "slide"
    }
   },
   "source": [
    "# Fenômeno de Runge\n",
    "\n",
    "Utilizando as raízes do polinômio $T_i$ de Chebyshev, conseguimos minimizar esse erro:\n",
    "\\begin{align}\n",
    "    &T_0(x) = 1\\\\\n",
    "    &T_1(x) = x\\\\\n",
    "    &T_{N+1}(x) = 2xT_N(x) - T_{N-1}(x)\\\\\n",
    "    &T_{N}(x) =\\cos(n \\arccos x)=\\cosh(n\\,\\operatorname{arcosh}\\,x)\n",
    "\\end{align}"
   ]
  },
  {
   "cell_type": "markdown",
   "metadata": {
    "slideshow": {
     "slide_type": "slide"
    }
   },
   "source": [
    "# Fenômeno de Runge\n",
    "<img src=\"./Figuras/chebychev_equidist.png\" >"
   ]
  },
  {
   "cell_type": "markdown",
   "metadata": {
    "slideshow": {
     "slide_type": "slide"
    }
   },
   "source": [
    "# Método Espectral\n",
    "## Integração\n",
    "\\begin{align}\n",
    "\\int^{a}_b f(x) \\partial x\\ \\approx \\int^{a}_b P_n(x)\\ \\partial x\\ &=\\ \\sum_{i\\ =\\ 0}^N f(x_i) \\int^{a}_b C_i(x) \\partial x\\\\ &=\\ \\color{Green}{ \\sum_{i\\ =\\ 0}^N f(x_i) w_i \\\\}\n",
    "\\end{align} \n",
    "onde :\n",
    "\\begin{equation}\n",
    " w_i =  \\int^{a}_b  C_i(x) \\partial x\n",
    "\\end{equation}"
   ]
  },
  {
   "cell_type": "markdown",
   "metadata": {
    "slideshow": {
     "slide_type": "slide"
    }
   },
   "source": [
    "# Método Espectral\n",
    "## Derivação\n",
    "\\begin{equation}\n",
    "   \\frac{\\partial f(x)}{\\partial x}  \\Biggm\\lvert_{x=x_i} =\\color{Green}{ \\sum^{N}_{j\\ = 0} f(x_j) C_{ij}}\n",
    "\\end{equation}\n",
    "\n",
    "\n",
    " Onde:\n",
    " \\begin{equation}\n",
    "  C_{ij} = \\frac{\\partial C_j(x)}{\\partial x} \\Biggm\\lvert_{x=x_i}\n",
    " \\end{equation}"
   ]
  },
  {
   "cell_type": "markdown",
   "metadata": {
    "slideshow": {
     "slide_type": "slide"
    }
   },
   "source": [
    "# Método Espectral\n",
    "## Polinômio de Jacobi\n",
    " Polinômios de Jacobi $P^{\\alpha,\\beta}_n(x)$ são famílias de polinômios de soluções para problemas de *Sturm-Liouville*. Tais polinômios são ***ortogonais*** no intervalo $[-1,1]$  com respeito funções peso do tipo $(1-x)^\\alpha (1+x)^\\beta$ para $\\alpha,\\beta > -1$.\n",
    "Pela fórmula de Rodrigues, essa família é dada por:\n",
    "\\begin{equation}\n",
    "P_n^{(\\alpha,\\beta)}(x) = \\frac{(-1)^n}{2^n n!} (1-x)^{-\\alpha} (1+x)^{-\\beta} \\frac{d^n}{dx^n} \\left\\{ (1-x)^\\alpha (1+x)^\\beta \\left (1 - x^2 \\right )^n \\right\\},\\ (\\alpha, \\beta >-1)\n",
    "\\end{equation}\n",
    " sua derivada é dada por:\n",
    "\\begin{equation}\n",
    "\\frac{\\partial P^{\\alpha,\\beta}_n (x)}{\\partial x} = \\frac{1}{2}(n+\\alpha+\\beta) P^{\\alpha + 1,\\beta +1}_{n-1} (x)\n",
    "\\end{equation}\n"
   ]
  },
  {
   "cell_type": "markdown",
   "metadata": {
    "slideshow": {
     "slide_type": "slide"
    }
   },
   "source": [
    "# Método Espectral\n",
    "## Polinômio de Jacobi\n",
    "onde podemos encontrar $P^{\\alpha + 1,\\beta +1}_{n-1}$ pela relação recursiva:\n",
    "\\begin{align}\n",
    "& P^{\\alpha,\\beta}_{0} (x) = 1\\\\\n",
    "& P^{\\alpha,\\beta}_{1} (x) = \\frac{1}{2}[\\alpha - \\beta + (\\alpha + \\beta + 2 )x]\\\\\n",
    "& P^{\\alpha,\\beta}_{n+1} (x)=(a^2_n + a ^3_n x)P^{\\alpha,\\beta}_{n}(x) - a_n^4P^{\\alpha,\\beta}_{n-1}(x)  \\\\\n",
    "& a^1_n = 2(n+1)(n+ \\alpha + \\beta + 1)(2n + \\alpha +\\beta)\\\\\n",
    "& a^2_n = (2n + \\alpha +\\beta + 1)(\\alpha^2 - \\beta^2)\\\\\n",
    "& a^3_n = (2n + \\alpha +\\beta)(2n + \\alpha +\\beta + 1)(2n + \\alpha + \\beta + 2)\\\\ \n",
    "\\end{align}\n"
   ]
  },
  {
   "cell_type": "markdown",
   "metadata": {
    "slideshow": {
     "slide_type": "slide"
    }
   },
   "source": []
  },
  {
   "cell_type": "markdown",
   "metadata": {
    "slideshow": {
     "slide_type": "slide"
    }
   },
   "source": []
  },
  {
   "cell_type": "markdown",
   "metadata": {
    "slideshow": {
     "slide_type": "slide"
    }
   },
   "source": []
  },
  {
   "cell_type": "markdown",
   "metadata": {
    "slideshow": {
     "slide_type": "slide"
    }
   },
   "source": []
  },
  {
   "cell_type": "markdown",
   "metadata": {
    "slideshow": {
     "slide_type": "slide"
    }
   },
   "source": []
  }
 ],
 "metadata": {
  "celltoolbar": "Slideshow",
  "kernelspec": {
   "display_name": "Julia 0.5.0",
   "language": "julia",
   "name": "julia-0.5"
  },
  "language_info": {
   "file_extension": ".jl",
   "mimetype": "application/julia",
   "name": "julia",
   "version": "0.5.0"
  }
 },
 "nbformat": 4,
 "nbformat_minor": 1
}
