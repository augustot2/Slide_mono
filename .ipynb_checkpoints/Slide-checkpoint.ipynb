{
 "cells": [
  {
   "cell_type": "markdown",
   "metadata": {
    "slideshow": {
     "slide_type": "slide"
    }
   },
   "source": [
    "# Métodos espectrais de alta ordem na resolução de equações diferenciais\n",
    "<center> <img src=\"./Figuras/ime.png\"  width=\"200\"> </center>\n",
    "Orientador:\n",
    "## Prof. Dr. Nelson Mukgayar Kuhl [IME - USP]\n",
    "\n",
    "Coorientador:\n",
    "## Dr. Paulo José Saiz Jabardo [CTMETRO - IPT]"
   ]
  },
  {
   "cell_type": "markdown",
   "metadata": {
    "slideshow": {
     "slide_type": "slide"
    }
   },
   "source": [
    "# História\n",
    "O método espectral surgiu como uma ferramenta de alto poder computacional em mecânica de fluídos, proposto em 1944 por Blinova, implementado em 1954 por Silberman, praticamente abandonado no meio da década de 60 e ressurgindo em 1969-1970 por Orszag, Eliason e Manchenhauer  e Rasmussen, foi desenvolvido para aplicações especializadas. No entanto,  somente em 1977 foi formalizado matematicamente por Gottlieb e Orszag.\n",
    "\n",
    "Originalmente o método espectral foi promovido por meteorologistas no estudo de modelos globais de tempo e especialistas em dinâmica de fluídos estudando turbulência isotrópica. Desde a década de 80 até hoje o  estudo na área de CFD (Computational Fluid Dynamics- dinâmica dos fluidos computacional), para solucionar problemas de equações diferenciais do tipo de Sturm-Liouville, tem crescido lado a lado ao avanço computacional que o tornou possível.\n",
    "\n"
   ]
  },
  {
   "cell_type": "markdown",
   "metadata": {
    "slideshow": {
     "slide_type": "slide"
    }
   },
   "source": [
    "# A monografia\n",
    " Neste trabalho, irei realizar algumas das técnicas do método espectral para a resolução de equações diferenciais em 1D (uma dimensão) apresentados por G. Karniadakis e S. Sherwin.\n"
   ]
  },
  {
   "cell_type": "markdown",
   "metadata": {
    "slideshow": {
     "slide_type": "slide"
    }
   },
   "source": [
    "# Linguagem Julia\n",
    "\n",
    "<center> <img src=\"./Figuras/julia.png\"  width=\"100\"> </center>\n",
    "\n",
    "* Aspectos positivos :\n",
    "     * características de linguagem de alto nível:\n",
    "         * polimorfismo\n",
    "         * tipagem dinâmica\n",
    "         * fácil implementação\n",
    "     * desempenho comparável a linguagens de baixo nível como (C e fortran)\n",
    "     * comunidade científica em crescimento\n",
    "     * utiliza algumas bibliotecas já conhecidas da linguagem python \n"
   ]
  },
  {
   "cell_type": "markdown",
   "metadata": {
    "slideshow": {
     "slide_type": "slide"
    }
   },
   "source": [
    "# Linguagem Julia\n",
    "\n",
    "<center> <img src=\"./Figuras/julia.png\"  width=\"100\"> </center>\n",
    "\n",
    "* Aspectos negativos :\n",
    "    * linguagem muito nova (Ver. 0.5)\n",
    "        * constante mudança de funções da biblioteca base \n",
    "        * falta de algumas bibliotecas expecíficas (que estão sendo implementadas)\n",
    "    \n"
   ]
  },
  {
   "cell_type": "markdown",
   "metadata": {
    "slideshow": {
     "slide_type": "slide"
    }
   },
   "source": [
    "# Tópicos\n",
    "\n",
    "1. Métodos espectral (interpolação, diferenciação, integração)\n",
    "2. Fenômeno Runge\n",
    "3. método dos resíduos ponderados\n",
    "4. elementos finitos\n",
    "5. resultados"
   ]
  },
  {
   "cell_type": "markdown",
   "metadata": {
    "slideshow": {
     "slide_type": "slide"
    }
   },
   "source": [
    "# Método espectral\n",
    "Diferentemente do método das diferenças finitas, que considera apenas os pontos próximos do ponto\n",
    "que queremos computar chamada de método local, o método espectral considera todo o domínio,\n",
    "sendo assim um método global.\n"
   ]
  },
  {
   "cell_type": "markdown",
   "metadata": {
    "slideshow": {
     "slide_type": "slide"
    }
   },
   "source": [
    "# Método espectral\n",
    "\\begin{align}\n",
    " P_n(x_i) &= f(x_i)\\\\\n",
    " P_n(x) &\\equiv \\sum_{i = 0}^{N} f(x_i)C_i(x) \n",
    "\\end{align}"
   ]
  },
  {
   "cell_type": "markdown",
   "metadata": {
    "slideshow": {
     "slide_type": "slide"
    }
   },
   "source": [
    "# Método espectral\n",
    "\n",
    "onde $C_i$ pode ser um polinômio base de Lagrange ou qualquer outro polinômio interpolador.\n",
    "\\begin{equation}\n",
    "C_i(x) = \\prod_{j = 0 \\\\ j \\neq i}^{N} \\frac{x - x_j}{x_i - x_j} \n",
    "\\end{equation} \n"
   ]
  },
  {
   "cell_type": "markdown",
   "metadata": {
    "slideshow": {
     "slide_type": "slide"
    }
   },
   "source": [
    "# Método espectral\n",
    "\n",
    "Exemplo para um polinômio de lagrange para 6 pontos:\n",
    "<img src= \"./Figuras/exemplo_polinomio_lagrange.png\">"
   ]
  },
  {
   "cell_type": "markdown",
   "metadata": {
    "slideshow": {
     "slide_type": "slide"
    }
   },
   "source": [
    "# Porém, essa interpolação nem sempre dá certo. -Carl Runge\n",
    "\n",
    "<img src= \"./Figuras/fenomeno_runge.png\" width=850 >\n"
   ]
  },
  {
   "cell_type": "markdown",
   "metadata": {
    "slideshow": {
     "slide_type": "slide"
    }
   },
   "source": [
    "# Fenômeno de Runge\n",
    "Para minimizar esses erros, temos que achar raízes de polinômios que minimizem o erro de interpolação da função:\n",
    "## Teorema de cauchy:\n",
    "\\begin{equation}\n",
    " f(x) - P_{N+1}(x) = \\frac{1}{[N+1]!}f^{(N+1)}(\\epsilon){\\color{Red}{ \\prod^{N}_{i = 0} (x - x_i)}} \\\\\n",
    "  \\epsilon(x) \\in [-1,1].\n",
    "  \\end{equation}\n",
    "\n"
   ]
  },
  {
   "cell_type": "markdown",
   "metadata": {
    "slideshow": {
     "slide_type": "slide"
    }
   },
   "source": [
    "# Fenômeno de Runge\n",
    "\n",
    "Utilizando as raízes do polinômio $T_i$ de Chebyshev, conseguimos minimizar esse erro:\n",
    "\\begin{align}\n",
    "    &T_0(x) = 1\\\\\n",
    "    &T_1(x) = x\\\\\n",
    "    &T_{N+1}(x) = 2xT_N(x) - T_{N-1}(x)\\\\\n",
    "    &T_{N}(x) =\\cos(n \\arccos x)=\\cosh(n\\,\\operatorname{arcosh}\\,x)\n",
    "\\end{align}"
   ]
  },
  {
   "cell_type": "markdown",
   "metadata": {
    "slideshow": {
     "slide_type": "slide"
    }
   },
   "source": [
    "# Fenômeno de Runge\n",
    "<img src=\"./Figuras/chebychev_equidist.png\" >"
   ]
  },
  {
   "cell_type": "markdown",
   "metadata": {
    "slideshow": {
     "slide_type": "slide"
    }
   },
   "source": [
    "# Método Espectral\n",
    "## Integração\n",
    "\\begin{align}\n",
    "\\int^{a}_b f(x) \\partial x\\ \\approx \\int^{a}_b P_n(x)\\ \\partial x\\ &=\\ \\sum_{i\\ =\\ 0}^N f(x_i) \\int^{a}_b C_i(x) \\partial x\\\\ &=\\ \\color{Green}{ \\sum_{i\\ =\\ 0}^N f(x_i) w_i \\\\}\n",
    "\\end{align} \n",
    "onde :\n",
    "\\begin{equation}\n",
    " w_i =  \\int^{a}_b  C_i(x) \\partial x\n",
    "\\end{equation}"
   ]
  },
  {
   "cell_type": "markdown",
   "metadata": {
    "slideshow": {
     "slide_type": "slide"
    }
   },
   "source": [
    "# Método Espectral\n",
    "## Derivação\n",
    "\\begin{equation}\n",
    "   \\frac{\\partial f(x)}{\\partial x}  \\Biggm\\lvert_{x=x_i} =\\color{Green}{ \\sum^{N}_{j\\ = 0} f(x_j) C_{ij}}\n",
    "\\end{equation}\n",
    "\n",
    "\n",
    " Onde:\n",
    " \\begin{equation}\n",
    "  C_{ij} = \\frac{\\partial C_j(x)}{\\partial x} \\Biggm\\lvert_{x=x_i}\n",
    " \\end{equation}"
   ]
  },
  {
   "cell_type": "markdown",
   "metadata": {
    "slideshow": {
     "slide_type": "slide"
    }
   },
   "source": [
    "# Método Espectral\n",
    "## Polinômio de Jacobi\n",
    " Polinômios de Jacobi $P^{\\alpha,\\beta}_n(x)$ são famílias de polinômios de soluções para problemas de *Sturm-Liouville*. Tais polinômios são ***ortogonais*** no intervalo $[-1,1]$  com respeito funções peso do tipo $(1-x)^\\alpha (1+x)^\\beta$ para $\\alpha,\\beta > -1$.\n",
    "Pela fórmula de Rodrigues, essa família é dada por:\n",
    "\\begin{equation}\n",
    "P_n^{(\\alpha,\\beta)}(x) = \\frac{(-1)^n}{2^n n!} (1-x)^{-\\alpha} (1+x)^{-\\beta} \\frac{d^n}{dx^n} \\left\\{ (1-x)^\\alpha (1+x)^\\beta \\left (1 - x^2 \\right )^n \\right\\},\\ (\\alpha, \\beta >-1)\n",
    "\\end{equation}\n",
    " sua derivada é dada por:\n",
    "\\begin{equation}\n",
    "\\frac{\\partial P^{\\alpha,\\beta}_n (x)}{\\partial x} = \\frac{1}{2}(n+\\alpha+\\beta) P^{\\alpha + 1,\\beta +1}_{n-1} (x)\n",
    "\\end{equation}\n"
   ]
  },
  {
   "cell_type": "markdown",
   "metadata": {
    "slideshow": {
     "slide_type": "slide"
    }
   },
   "source": [
    "# Método Espectral\n",
    "## Polinômio de Jacobi\n",
    "onde podemos encontrar $P^{\\alpha + 1,\\beta +1}_{n-1}$ pela relação recursiva:\n",
    "\\begin{align}\n",
    "& P^{\\alpha,\\beta}_{0} (x) = 1\\\\\n",
    "& P^{\\alpha,\\beta}_{1} (x) = \\frac{1}{2}[\\alpha - \\beta + (\\alpha + \\beta + 2 )x]\\\\\n",
    "& P^{\\alpha,\\beta}_{n+1} (x)=(a^2_n + a ^3_n x)P^{\\alpha,\\beta}_{n}(x) - a_n^4P^{\\alpha,\\beta}_{n-1}(x)  \\\\\n",
    "& a^1_n = 2(n+1)(n+ \\alpha + \\beta + 1)(2n + \\alpha +\\beta)\\\\\n",
    "& a^2_n = (2n + \\alpha +\\beta + 1)(\\alpha^2 - \\beta^2)\\\\\n",
    "& a^3_n = (2n + \\alpha +\\beta)(2n + \\alpha +\\beta + 1)(2n + \\alpha + \\beta + 2)\\\\ \n",
    "\\end{align}\n"
   ]
  },
  {
   "cell_type": "markdown",
   "metadata": {
    "slideshow": {
     "slide_type": "slide"
    }
   },
   "source": [
    "# Método dos resíduos ponderados\n",
    "\n",
    "Dado $u(x)$ a solução da equação diferencial:\n",
    " \\begin{align}\n",
    "     L(u) &= \\frac{\\partial^2 u}{\\partial x^2} + \\lambda u + f = 0 \\\\\n",
    "    L(u) &= 0\n",
    " \\end{align}"
   ]
  },
  {
   "cell_type": "markdown",
   "metadata": {
    "slideshow": {
     "slide_type": "slide"
    }
   },
   "source": [
    "# Método dos resíduos ponderados\n",
    " Aproximando $u$ por $u^\\delta$ obtemos um erro $R(u^\\delta)$ associado ao operador $L(\\bullet)$:\n",
    " \\begin{align}\n",
    " \tu^\\delta(x) &= u(x_0) + \\sum^{N_{dof}}_{i = 1} u(x_i) \\Phi(x)\\\\\n",
    "    L(u^\\delta) &= R(u^\\delta)\n",
    "\\end{align}"
   ]
  },
  {
   "cell_type": "markdown",
   "metadata": {
    "slideshow": {
     "slide_type": "slide"
    }
   },
   "source": [
    "# Método dos resíduos ponderados\n",
    "\n",
    "Nosso problema está na minimização desse erro $R(u^\\delta)$. Para isso, escolhemos uma função teste $v_j$ onde $j = 1,2,\\dots, N_{dof}$, tal que seu produto interno com o erro seja o menor possível.\n",
    "\\begin{equation}\n",
    "    <v_j,R(u^\\delta)> = \\int_{\\Omega} v_j(x)\\ R(x) \\partial x,\\ \\forall j = 1,2,3,\\dots,N_{dof}\\\\\n",
    "\\end{equation}"
   ]
  },
  {
   "cell_type": "markdown",
   "metadata": {
    "slideshow": {
     "slide_type": "slide"
    }
   },
   "source": [
    "# Método dos resíduos ponderados\n",
    "\n",
    "Assim, obtemos um sistema linear para cada j no qual escolhido a melhor função teste $v_j$, temos a melhor aproximação $u^\\delta$. Ao longo dos anos várias funções foram encontradas para a minimização dos erros. O método mais conhecido é o dos Mínimos Quadrados no qual $v_j\\ =\\ \\frac{\\partial R}{\\partial \\hat{u}_j}$. Alguns outros também existem como o método de *colocação* e método dos *momentos*. Aquele que usarei é o método de **Galerkin**, onde escolhemos $v_j \\equiv \\phi_j$ e $v_j(\\Omega_d) = 0$ onde $\\Omega_d$ é a fronteira de *Dirichlet*.\n"
   ]
  },
  {
   "cell_type": "markdown",
   "metadata": {
    "slideshow": {
     "slide_type": "slide"
    }
   },
   "source": [
    "# Método de Galerkin\n",
    " O método de ***Galerkin***, também conhecido como \\emph{Bubnov-Galerkin} devido a Ivan Grigoryevich Bubnov  e Boris Grigoryevich Galerkin  será o mais utilizado daqui pra frente. Para fins de exemplo consideramos a seguinte equação diferencial em uma dimensão:\n",
    " \\begin{equation} \n",
    " L(u) \\equiv \\frac{\\partial^2 u}{\\partial x^2} + f = 0\n",
    " \\end{equation}\n",
    " \n",
    " Para esse problema ser bem posto e então obter uma solução única, precisamos especificar as condições de fronteira num domínio $\\Omega = \\{x| -1 < x < 1\\}$, assim sendo temos:\n",
    " \\begin{equation}\n",
    " u(-1)=g_D\\ ,\\ \\frac{\\partial u(1)}{\\partial x} = g_N\n",
    " \\end{equation}\n",
    " Onde $g_D$ e $g_N$, são constantes, e são chamadas de condição de contorno de *D*irichlet e *N*eumman. Essas condições junto da equação , chamamos essa combinação como formulação *Forte* do problema."
   ]
  },
  {
   "cell_type": "markdown",
   "metadata": {
    "slideshow": {
     "slide_type": "slide"
    }
   },
   "source": [
    "# Formulação fraca\n",
    "\n",
    " Como a função teste $v$ é zero na fronteira de *Dirichlet*, sabemos que $v(-1) = 0$. Assim, aplicando a condição de fronteira de *Neumman*, $\\frac{\\partial u(1)}{\\partial x} = g_N$, simplificamos a equação, temos:\n",
    "\\begin{equation}\n",
    " (v,L(u))=\\int^1_{-1} v\\left ( \\frac{\\partial^2u}{\\partial x^2} + f \\right )\\partial x = 0\n",
    "\\end{equation}\n"
   ]
  },
  {
   "cell_type": "markdown",
   "metadata": {
    "slideshow": {
     "slide_type": "slide"
    }
   },
   "source": [
    "  Podemos ver que essa equação pode ser reescrita usando integração por partes obtemos:\n",
    "\n",
    " \\begin{align}\n",
    "& \\int^{1}_{-1} v \\frac{\\partial^2 u}{\\partial x^2} \\partial x = \\left [ v\\frac{\\partial u}{\\partial x}    \\right ]^{1}_{-1} - \\int^{1}_{-1} \\frac{\\partial v}{\\partial x}  \\frac{\\partial u}{\\partial x}  \\partial x + \\int^{1}_{-1}  v f\\ \\partial x\n",
    " \\end{align}\n",
    " \\begin{equation}\n",
    " \\int^{1}_{-1} \\frac{\\partial v}{\\partial x}  \\frac{\\partial u}{\\partial x}  \\partial x =  v(1)g_N + \\int^{1}_{-1}  v f\\ \\partial x  \n",
    "\\end{equation}"
   ]
  },
  {
   "cell_type": "markdown",
   "metadata": {
    "slideshow": {
     "slide_type": "slide"
    }
   },
   "source": []
  },
  {
   "cell_type": "markdown",
   "metadata": {
    "slideshow": {
     "slide_type": "slide"
    }
   },
   "source": []
  },
  {
   "cell_type": "markdown",
   "metadata": {
    "slideshow": {
     "slide_type": "slide"
    }
   },
   "source": []
  }
 ],
 "metadata": {
  "celltoolbar": "Slideshow",
  "kernelspec": {
   "display_name": "Julia 0.5.0",
   "language": "julia",
   "name": "julia-0.5"
  },
  "language_info": {
   "file_extension": ".jl",
   "mimetype": "application/julia",
   "name": "julia",
   "version": "0.5.0"
  },
  "livereveal": {
   "font-size": "50%",
   "theme": "serif",
   "transition": "convex"
  }
 },
 "nbformat": 4,
 "nbformat_minor": 1
}
