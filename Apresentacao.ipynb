{
 "cells": [
  {
   "cell_type": "code",
   "execution_count": 97,
   "metadata": {
    "collapsed": false,
    "slideshow": {
     "slide_type": "notes"
    }
   },
   "outputs": [
    {
     "data": {
      "text/plain": [
       "plot_aprox_fun (generic function with 2 methods)"
      ]
     },
     "execution_count": 97,
     "metadata": {},
     "output_type": "execute_result"
    }
   ],
   "source": [
    "using Jacobi\n",
    "using PyPlot\n",
    "#intervalo \n",
    "a = -5 ; b = 5\n",
    "\n",
    "\n",
    "function plot_aprox_runge(z)\n",
    "    f(x) = 1./(1 + x.^2)\n",
    "    x = linspace(a,b,101)\n",
    "    plot(x,f(x))\n",
    "    nx = 100\n",
    "    x2 = linspace(a, b, nx)\n",
    "    ye2 = f(x2)\n",
    "    #plot(x2, ye2, \"-\",label=\"Original\")\n",
    "    #title(\"Interpolação para \\n Raízes de Gauss-Lobatto-Jacobi\")\n",
    "    legend()\n",
    "    N =35\n",
    "    errog = [0]\n",
    "    \n",
    "    nx= 1000\n",
    "    x = linspace(a, b, nx)\n",
    "\n",
    "    #altera o intervalo de interpolação\n",
    "    z = ((1-z)/(2)).*a + ((1+z)/(2)).*b\n",
    "\n",
    "    ye = f(z)\n",
    "\n",
    "    Im = interp_mat(x, z)\n",
    "    y =  Im * ye\n",
    "\n",
    "    plot(x, y, \"--\",label = \"$Q\")\n",
    "\n",
    "\n",
    "    erro = maxabs(y-f(x))\n",
    "    title(\"erro para  P_$Q = $erro\")\n",
    "end\n",
    "\n",
    "\n",
    "function plot_aprox_fun(z,f,a,b)\n",
    "    \n",
    "    x = linspace(a,b,101)\n",
    "    plot(x,f(x),label=\"original\")\n",
    "    nx = 100\n",
    "    \n",
    "    N =35\n",
    "    errog = [0]\n",
    "    nx= 1000\n",
    "    x = linspace(a, b, nx)\n",
    "\n",
    "    #altera o intervalo de interpolação\n",
    "    z = ((1-z)/(2)).*a + ((1+z)/(2)).*b\n",
    "\n",
    "    ye = f(z)\n",
    "\n",
    "    Im = interp_mat(x, z)\n",
    "    y =  Im * ye\n",
    "\n",
    "    plot(x, y, \"--\",label = \"$Q\")\n",
    "\n",
    "    legend()\n",
    "    erro = maxabs(y-f(x))\n",
    "   \n",
    "end"
   ]
  },
  {
   "cell_type": "code",
   "execution_count": null,
   "metadata": {
    "collapsed": true
   },
   "outputs": [],
   "source": [
    "plot_aprox_fun()"
   ]
  },
  {
   "cell_type": "code",
   "execution_count": null,
   "metadata": {
    "collapsed": true
   },
   "outputs": [],
   "source": [
    "  "
   ]
  },
  {
   "cell_type": "markdown",
   "metadata": {
    "slideshow": {
     "slide_type": "slide"
    }
   },
   "source": [
    "# Métodos espectrais de alta ordem \n",
    "# na resolução de equações diferenciais"
   ]
  },
  {
   "cell_type": "markdown",
   "metadata": {
    "collapsed": true,
    "slideshow": {
     "slide_type": "slide"
    }
   },
   "source": [
    "<img src = \"Figuras/logo.png\" >\n",
    "Receita:\n",
    "* método  espectral\n",
    "* método  elementos finitos\n",
    "\n",
    "Modo de preparo:\n",
    "* junte os dois métodos \n",
    "\n",
    "Porção:\n",
    "* n pessoas para $ n \\rightarrow \\infty$\n",
    "\n",
    "\n"
   ]
  },
  {
   "cell_type": "markdown",
   "metadata": {
    "collapsed": true,
    "slideshow": {
     "slide_type": "slide"
    }
   },
   "source": [
    "## Método Espectral\n",
    " Para fazer a interpolação da função $f(x)$ por um polinômio trigonométrico ou não, de grau $n$, $P_{n}(x)$ satisfazendo:\n",
    "\n",
    "\\begin{equation}\n",
    "\tP_n (x_i)\\ =\\ f(x_i) \\ \\ \\ i = 1,2,...,n+1\n",
    "\\end{equation}\n",
    "\n",
    " Onde $f(x_i)$ é a função $f$ pré-calculada nos pontos $x_i$. A escolha desses pontos $x_i$ ainda será explicada.\n"
   ]
  },
  {
   "cell_type": "markdown",
   "metadata": {
    "collapsed": true,
    "slideshow": {
     "slide_type": "slide"
    }
   },
   "source": [
    "## Polinômio interpolador\n",
    "Para fazermos essa interpolação para $n$ pontos conhecidos aproximamos uma função usando o polinômio base de **Lagrange**.\n",
    "\\begin{equation}\n",
    "C_i(x) = \\prod_{j = 0 \\\\ j \\neq i}^{N} \\frac{x - x_j}{x_i - x_j} \n",
    "\\end{equation} \n"
   ]
  },
  {
   "cell_type": "markdown",
   "metadata": {
    "collapsed": true,
    "slideshow": {
     "slide_type": "slide"
    }
   },
   "source": [
    "<img src = \"Figuras/exemplo_polinomio_lagrange.png\" >\n"
   ]
  },
  {
   "cell_type": "markdown",
   "metadata": {
    "collapsed": true,
    "slideshow": {
     "slide_type": "slide"
    }
   },
   "source": [
    "A interpolação de **Lagrange** é dada por :\n",
    "\\begin{equation}\n",
    " P_n(x) \\equiv \\sum_{i = 0}^{N} f(x_i)C_i(x) \n",
    "\\end{equation}\n",
    "Obedecendo que $P_n(x_i) = f(x_i)$. "
   ]
  },
  {
   "cell_type": "markdown",
   "metadata": {
    "slideshow": {
     "slide_type": "slide"
    }
   },
   "source": [
    "#  Quais pontos ($x_i$) escolher ?"
   ]
  },
  {
   "cell_type": "markdown",
   "metadata": {
    "collapsed": true,
    "slideshow": {
     "slide_type": "slide"
    }
   },
   "source": [
    "## Temos um problema e ele se chama Fenômeno de Runge\n"
   ]
  },
  {
   "cell_type": "markdown",
   "metadata": {
    "slideshow": {
     "slide_type": "slide"
    }
   },
   "source": [
    "# A Função\n",
    " \\begin{equation}\n",
    " f(x) = \\frac{1}{1 + x^2} , x \\in [-5,5]\n",
    " \\end{equation}\n",
    "<img src = \"Figuras/runge_fun.png\" >"
   ]
  },
  {
   "cell_type": "markdown",
   "metadata": {
    "slideshow": {
     "slide_type": "slide"
    }
   },
   "source": [
    "# Pontos equidistantes ?"
   ]
  },
  {
   "cell_type": "code",
   "execution_count": 84,
   "metadata": {
    "collapsed": false,
    "scrolled": true,
    "slideshow": {
     "slide_type": "subslide"
    }
   },
   "outputs": [
    {
     "data": {
      "image/png": "[encoded data removed]",
      "text/plain": [
       "PyPlot.Figure(PyObject <matplotlib.figure.Figure object at 0x7fe35f000350>)"
      ]
     },
     "metadata": {},
     "output_type": "display_data"
    },
    {
     "data": {
      "text/plain": [
       "PyObject <matplotlib.text.Text object at 0x7fe35f00ba50>"
      ]
     },
     "execution_count": 84,
     "metadata": {},
     "output_type": "execute_result"
    }
   ],
   "source": [
    "N = 20\n",
    "xᵢ = linspace(-1,1,N)\n",
    "\n",
    "f(x) = 1/(1 + x.^2)\n",
    "xᵢ = ((1-xᵢ)/(2)).*-5 + ((1+xᵢ)/(2)).*5\n",
    "plot_aprox_runge(xᵢ)\n",
    "#[PyPlot.axvline(xᵢ,color=\"red\") for xᵢ in xᵢ]"
   ]
  },
  {
   "cell_type": "markdown",
   "metadata": {
    "slideshow": {
     "slide_type": "slide"
    }
   },
   "source": [
    "# Pontos de Chebychev"
   ]
  },
  {
   "cell_type": "code",
   "execution_count": 86,
   "metadata": {
    "collapsed": false,
    "slideshow": {
     "slide_type": "subslide"
    }
   },
   "outputs": [
    {
     "data": {
      "image/png": "[encoded data removed]",
      "text/plain": [
       "PyPlot.Figure(PyObject <matplotlib.figure.Figure object at 0x7fe35df42050>)"
      ]
     },
     "metadata": {},
     "output_type": "display_data"
    },
    {
     "data": {
      "text/plain": [
       "20-element Array{Float64,1}:\n",
       " -4.98459 \n",
       " -4.86185 \n",
       " -4.6194  \n",
       " -4.2632  \n",
       " -3.80203 \n",
       " -3.24724 \n",
       " -2.61249 \n",
       " -1.91342 \n",
       " -1.16723 \n",
       " -0.392295\n",
       "  0.392295\n",
       "  1.16723 \n",
       "  1.91342 \n",
       "  2.61249 \n",
       "  3.24724 \n",
       "  3.80203 \n",
       "  4.2632  \n",
       "  4.6194  \n",
       "  4.86185 \n",
       "  4.98459 "
      ]
     },
     "execution_count": 86,
     "metadata": {},
     "output_type": "execute_result"
    }
   ],
   "source": [
    "Q = 20\n",
    "xᵢ = Jacobi.chebyshev_zeros(Q)\n",
    "plot_aprox_runge(xᵢ)\n",
    "xᵢ = ((1-xᵢ)/(2)).*-5 + ((1+xᵢ)/(2)).*5\n",
    "\n",
    "#[PyPlot.axvline(xᵢ,color=\"red\") for xᵢ in xᵢ]"
   ]
  },
  {
   "cell_type": "markdown",
   "metadata": {
    "slideshow": {
     "slide_type": "slide"
    }
   },
   "source": [
    "# Aproximando funções "
   ]
  },
  {
   "cell_type": "code",
   "execution_count": 93,
   "metadata": {
    "collapsed": false,
    "slideshow": {
     "slide_type": "subslide"
    }
   },
   "outputs": [
    {
     "data": {
      "image/png": "[encoded data removed]",
      "text/plain": [
       "PyPlot.Figure(PyObject <matplotlib.figure.Figure object at 0x7fe35e883e10>)"
      ]
     },
     "metadata": {},
     "output_type": "display_data"
    },
    {
     "data": {
      "text/plain": [
       "0.026754143605034808"
      ]
     },
     "execution_count": 93,
     "metadata": {},
     "output_type": "execute_result"
    }
   ],
   "source": [
    "Q = 30\n",
    "g(x) = sin(x*pi)\n",
    "z = zglj(Q)\n",
    "z = linspace(-1,1,6)\n",
    "#z = Jacobi.chebyshev2_zeros(Q)\n",
    "#z = linspace(-1,1,Q)\n",
    "plot_aprox_fun(z,g,-1,1)"
   ]
  },
  {
   "cell_type": "code",
   "execution_count": 74,
   "metadata": {
    "collapsed": false,
    "slideshow": {
     "slide_type": "notes"
    }
   },
   "outputs": [
    {
     "name": "stderr",
     "output_type": "stream",
     "text": [
      "WARNING: replacing module HPFEM\n"
     ]
    },
    {
     "data": {
      "text/plain": [
       "lagrange_oed_spec (generic function with 5 methods)"
      ]
     },
     "execution_count": 74,
     "metadata": {},
     "output_type": "execute_result"
    }
   ],
   "source": [
    "include(\"../../HPFEM.jl/src/HPFEM.jl\")\n",
    "include(\"../../HPFEM_mod.jl/src/HPFEM_mod.jl\")"
   ]
  },
  {
   "cell_type": "markdown",
   "metadata": {
    "slideshow": {
     "slide_type": "slide"
    }
   },
   "source": [
    "# Método Elementos Finitos"
   ]
  },
  {
   "cell_type": "markdown",
   "metadata": {},
   "source": [
    "<img src = \"Figuras/phis_elementos_finitos.png\" >\n",
    "<img src = \"Figuras/exemplo_elementos_finitos.png\" >\n"
   ]
  },
  {
   "cell_type": "markdown",
   "metadata": {
    "collapsed": false,
    "slideshow": {
     "slide_type": "slide"
    }
   },
   "source": [
    "# ir para o .ipynb Lagrange spectral-elem_aprox"
   ]
  },
  {
   "cell_type": "markdown",
   "metadata": {
    "collapsed": true,
    "slideshow": {
     "slide_type": "subslide"
    }
   },
   "source": [
    "# Derivação\n",
    "\n",
    "\n",
    "\n",
    " Com a interpolação de $f(x) \\in P_p$, onde $P_p$ é o espaço de polinômios de grau $\\leq p$, pode ser reescrito em termos de polinômios de Lagrange $C_i$, por $N + 1$ e $x \\in -1 \\leq x \\leq 1$ pontos como:\n",
    " \\begin{equation}\n",
    " f(x)  = \\sum^{N}_{0} f(x_i) C_i(x)\n",
    " \\end{equation}\n",
    " A derivada da $f(x)$ é dada por:\n",
    " \\begin{equation}\n",
    " \\frac{\\partial f(x)}{\\partial x} = \\sum^{N}_{i = 0} f(x_i) \\frac{\\partial C_i(x)}{\\partial x}\n",
    " \\end{equation}\n",
    "\n"
   ]
  },
  {
   "cell_type": "markdown",
   "metadata": {
    "collapsed": true,
    "slideshow": {
     "slide_type": "subslide"
    }
   },
   "source": [
    " Calculando $\\frac{\\partial f(x)}{\\partial x}$ nos pontos nodais $x_i$, temos:\n",
    "\\begin{equation}\n",
    "   \\frac{\\partial f(x)}{\\partial x}  \\Biggm\\lvert_{x=x_i} = \\sum^{N}_{j\\ = 0} f(x_j) C_{ij}\n",
    "\\end{equation}\n",
    " Onde:\n",
    " \\begin{equation}\n",
    "  C_{ij} = \\frac{\\partial C_i(x)}{\\partial x} \\Biggm\\lvert_{x=x_i}\n",
    " \\end{equation}\n",
    " a derivada de $C_i(x)$ é:\n",
    " \\begin{align}\n",
    " &C_i(x) = \\frac{P_{n+1}(x)}{P'_{n+1}(x)(x -\\ x_i)}\\ ,\\ P_{n+1}(x) = \\prod^{N}_{0} (x - x_j)\\\\\n",
    " &\\frac{\\partial C_i(x)}{\\partial x} =  \\frac{P'_{n+1}(x)(x\\ -\\ x_i) - P_{n+1}(x)}{P'_{n+1}(x)(x - x_i)^2}\\ \n",
    " \\end{align}"
   ]
  },
  {
   "cell_type": "markdown",
   "metadata": {
    "collapsed": true,
    "slideshow": {
     "slide_type": "subslide"
    }
   },
   "source": [
    " temos que para x tendendo para $x_i$:\n",
    " \\begin{equation}\n",
    " \\lim_{x \\rightarrow x_i}  \\frac{\\partial C_i(x)}{\\partial x} =  \\lim_{x \\rightarrow x_i} \\frac{P''_{n+1}(x)}{2P'_{n+1}(x)} = \\frac{P''_{n+1}(x_i)}{2P'_{n+1}(x_i)}\n",
    " \\end{equation}\n",
    " assim, ficamos com:\n",
    " \\begin{equation}\n",
    " C_{ij}= \n",
    "\\begin{cases}\n",
    "    \\frac{P'_{n+1}(x_i)}{P'_{n+1}(x_j)} \\frac{1}{(x_i - x_j)},& \\text{se}\\ i\\ \\neq  j\\\\\\\\\n",
    "    \\frac{P''_{n+1}(x_i)}{2P''_{n+1}(x_j)},              & \\text{caso contrário}\n",
    "\\end{cases}\n",
    " \\end{equation}\n",
    " Matricialmente podemos fazer:\n",
    "\\begin{equation}\n",
    " U'= \\begin{bmatrix} \n",
    "u'(x_0)\\\\ \n",
    "u'(x_1)\\\\\n",
    "...\\\\\n",
    "u'(x_N)\\\\ \n",
    "\\end{bmatrix} =\n",
    "\\begin{bmatrix}\n",
    "C_{00} &   C_{01} & \\ldots & C_{0N}\\\\\n",
    "C_{10}  &  C_{11} & \\ldots & C_{1N}\\\\\n",
    "\\vdots & \\vdots & \\ddots & \\vdots\\\\\n",
    "C_{N0}  &   C_{N1}       &\\ldots & C_{NN}\n",
    "\\end{bmatrix}. \\begin{bmatrix} \n",
    "u_{0}\\\\ \n",
    "u_{1}\\\\\n",
    "\\vdots\\\\\n",
    "u_{N}\\\\ \n",
    "\\end{bmatrix} \n",
    "\\end{equation}  \n",
    "  Para a mudança de intervalo $ x \\in [-1,1]$ para $y \\in [a,b]$ podemos fazer:\n",
    "\\begin{align}\n",
    "&y = \\frac{(1-x)}{2}a + \\frac{(1+x)}{2}b \\\\\n",
    "&\\frac{\\partial y}{\\partial x} = \\frac{(b -a)}{2}\\\\\n",
    "&\\frac{\\partial f}{\\partial x} = \\frac{\\partial f}{\\partial y}. \\frac{\\partial y}{\\partial x} \\\\\n",
    "&\\frac{\\partial f}{\\partial y} =  (\\frac{\\partial y}{\\partial x})^{-1}.\\frac{\\partial f}{\\partial x} \\\\\n",
    "&\\frac{\\partial f}{\\partial y} = \\frac{2}{(b -a)}.\\frac{\\partial f}{\\partial x}\n",
    "\\end{align}"
   ]
  },
  {
   "cell_type": "markdown",
   "metadata": {
    "collapsed": true,
    "slideshow": {
     "slide_type": "slide"
    }
   },
   "source": [
    "# Integração \n",
    "\n",
    " Usando os polinômios interpoladores $P_i$ de uma mesma família qualquer,  de grau menor ou igual a $n$, podemos escrever a integral de $f$ no intervalo $[a,b]$:\n",
    " \n",
    "\\begin{equation}\n",
    "\\int^{a}_b f(x) \\partial x\\ = \\int^{a}_b[\\sum_{i\\ =\\ 0}^N P_i(x) f(x_i)]\\ \\partial x +  \\int^{a}_b \\prod_{i\\ =\\ 0} (x - x_i)\\frac{f^{(n+1)}(\\varepsilon)}{(n+1)!}\\ \\partial x\\\\\n",
    "\\end{equation}\n",
    "\n",
    "podemos aproximar a integral por:\n",
    "\\begin{equation}\n",
    "   \\int^{a}_b f(x) \\partial x\\ \\approx \\sum_{i\\ =\\ 0}^N f(x_i) \\int^{a}_b P_i(x) \\partial x\\ =\\ \\sum_{i\\ =\\ 0}^N f(x_i) w_i \\\\\n",
    "\\end{equation}\n",
    "\n",
    "onde o coeficiente é:\n",
    "\\begin{equation}\n",
    " w_i =  \\int^{a}_b  P_i(x) \n",
    "\\end{equation}\n"
   ]
  },
  {
   "cell_type": "markdown",
   "metadata": {
    "collapsed": true,
    "slideshow": {
     "slide_type": "slide"
    }
   },
   "source": [
    "# Resolvendo EDO utilizando os métodos anteriores\n",
    " "
   ]
  },
  {
   "cell_type": "markdown",
   "metadata": {
    "collapsed": true,
    "slideshow": {
     "slide_type": "slide"
    }
   },
   "source": [
    "# Método dos resíduos ponderados\n",
    "\n",
    "Tendo uma equação diferencial dada por :\n",
    "\\begin{equation}\n",
    "    L(u) = \\frac{\\partial^2 u}{\\partial x^2} + \\lambda u + f = 0 \\\\\n",
    "    L(u) = 0\n",
    "\\end{equation}\n",
    "queremos encontrar $u^\\delta$ que resolva essa EDO:\n",
    "\\begin{equation}\n",
    "u^\\delta(x) = u(x_0) + \\sum^{N_{dof}}_{i = 1} u(x_i) \\Phi(x)\n",
    "\\end{equation}\n"
   ]
  },
  {
   "cell_type": "markdown",
   "metadata": {
    "slideshow": {
     "slide_type": "slide"
    }
   },
   "source": [
    "Substituindo $u^\\delta$ em $L(u)$ temos um resíduo:\n",
    "\\begin{equation}\n",
    "    L(u^\\delta) = R(u^\\delta)\n",
    "\\end{equation}\n",
    "Logo, sendo o produto interno definido por:\n",
    "\\begin{equation}\n",
    "    <f,g> = \\int_{\\Omega} f(x)\\ g(x) \\partial x\n",
    "\\end{equation}\n",
    "Queremos minimizar $R(u^\\delta)$ utilizando o produto interno desse resíduo com uma função teste $v_j(x)$:\n",
    "\\begin{equation}\n",
    "    <v_j,R> = \\int_{\\Omega} v_j(x)\\ R(x) \\partial x,\\ \\forall j = 1,2,3,\\dots,N_{dof}\\\\\n",
    "    <v_1,R> = \\int_{\\Omega} v_1(x)\\ R(x) \\partial x\\\\\n",
    "    <v_2,R> = \\int_{\\Omega} v_2(x)\\ R(x) \\partial x\\\\\n",
    "    <v_3,R> = \\int_{\\Omega} v_3(x)\\ R(x) \\partial x\\\\\n",
    "    \\vdots\\\\\n",
    "    <v_{N_{dof}},R> = \\int_{\\Omega} v_{N_{dof}}(x)\\ R(x) \\partial x\n",
    "\\end{equation}\n",
    "\n",
    "Escolhendo corretamente a função teste, encontramos $u(x_0),u(x_1),u(x_2),\\dots$ que minimiza a função"
   ]
  },
  {
   "cell_type": "markdown",
   "metadata": {},
   "source": [
    "$$\n",
    "\\sum_{i=1}^N A_i(u,v) = \\sum_{k=1}^M b_k(v)\n",
    "$$"
   ]
  },
  {
   "cell_type": "code",
   "execution_count": null,
   "metadata": {
    "collapsed": true
   },
   "outputs": [],
   "source": []
  },
  {
   "cell_type": "markdown",
   "metadata": {
    "collapsed": true,
    "slideshow": {
     "slide_type": "slide"
    }
   },
   "source": [
    "# Quais $v_j's$ escolher ??"
   ]
  },
  {
   "cell_type": "markdown",
   "metadata": {
    "collapsed": true,
    "slideshow": {
     "slide_type": "slide"
    }
   },
   "source": [
    "# Método dos mínimos quadrados\n",
    " Já visto no curso de graduação, o método dos mínimos quadrados, nada mais é que um tipo de método dos resíduos onde $v_j$ é definido como:\n",
    " \n",
    " \\begin{equation}\n",
    " v_j(x) = \\frac{\\partial R}{\\partial u_j}\n",
    " \\end{equation}"
   ]
  },
  {
   "cell_type": "markdown",
   "metadata": {
    "collapsed": true,
    "slideshow": {
     "slide_type": "slide"
    }
   },
   "source": [
    "# Método de Galerkin\n",
    "O método de galerkin, que utilizaremos, definimos $v_j's$ como:\n",
    "\\begin{equation}\n",
    "    v_j(x) = \\Phi_j(x)\n",
    "\\end{equation}\n",
    "Ou seja, $v_j$ é a própria função interpoladora\n",
    "<img src = \"Figuras/galerkin.jpg\" >\n"
   ]
  },
  {
   "cell_type": "markdown",
   "metadata": {
    "collapsed": true,
    "slideshow": {
     "slide_type": "slide"
    }
   },
   "source": [
    "# formulação fraca\n",
    "Logo utilizando o método de galerkin, queremos encontrar $u^\\delta$ que minimize $L(u^\\delta)$:\n",
    "\n",
    "\\begin{equation}\n",
    " <v_j,L(u)>=\\int^1_{-1} v_j\\left ( \\frac{\\partial^2u}{\\partial x^2} + \\lambda u+ f \\right )\\partial x = 0 \\ \\forall j\\ =\\ 1,2,3,\\dots,N_{dof}\\\\ \n",
    "\\end{equation}\n",
    "\n"
   ]
  },
  {
   "cell_type": "markdown",
   "metadata": {
    "collapsed": true,
    "slideshow": {
     "slide_type": "slide"
    }
   },
   "source": [
    "# Como ninguém gosta de algebra, fique aqui com um gif enquanto expando a equação do produto interno\n",
    "<img src = \"Figuras/giphy.gif\" >\n"
   ]
  },
  {
   "cell_type": "markdown",
   "metadata": {
    "collapsed": true,
    "slideshow": {
     "slide_type": "slide"
    }
   },
   "source": [
    "# Ufa ...\n",
    "\\begin{equation}\n",
    "\\int_\\Omega \\frac{\\partial v}{\\partial x}\\frac{\\partial u}{\\partial x}\\ + \\int_\\Omega v\\ u\\ \\partial x  =\\  \\int_\\Omega v\\ f \\partial x\\  +\\  v(x)\\frac{\\partial u(x)}{\\partial x}\\Biggm\\lvert_\\Omega\n",
    "\\end{equation}"
   ]
  },
  {
   "cell_type": "markdown",
   "metadata": {
    "collapsed": true,
    "slideshow": {
     "slide_type": "slide"
    }
   },
   "source": [
    "\\begin{equation}\n",
    "\\int_\\Omega \\frac{\\partial v_j}{\\partial x}\\frac{\\partial u}{\\partial x}\\ + \\int_\\Omega v_j\\ u\\ \\partial x  =\\  \\int_\\Omega v_j\\ f \\partial x\\  +\\  v_j(x)\\frac{\\partial u(x)}{\\partial x}\\Biggm\\lvert_\\Omega \\forall j = 1,2,3,\\dots,N_{dof}\n",
    "\\end{equation}"
   ]
  },
  {
   "cell_type": "markdown",
   "metadata": {},
   "source": [
    "\\begin{equation}\n",
    "\\sum^{N_{dof}}_{i=0} u_i \\int_\\Omega  \\frac{\\partial \\Phi_i(x)}{\\partial x}\\ \\frac{\\partial \\Phi_j(x)}{\\partial x}  \\partial x + \\sum^{N_{dof}}_{i=0} u_i \\int_\\Omega \\Phi_i(x) \\Phi_j(x) \\partial x = \\int_\\Omega \\Phi_j(x) f(x) \\partial x\\\\\n",
    "S_{i,j} =  \\int_\\Omega  \\frac{\\partial \\Phi_i(x)}{\\partial x}\\ \\frac{\\partial \\Phi_j(x)}{\\partial x}  \\partial x  \\\\ M_{i,j} = \\int_\\Omega \\Phi_i(x) \\Phi_j(x) \\partial x \\\\\n",
    "F_{j} = \\int_\\Omega \\Phi_j(x) f(x) \\partial x\n",
    "\\end{equation}"
   ]
  },
  {
   "cell_type": "markdown",
   "metadata": {
    "slideshow": {
     "slide_type": "slide"
    }
   },
   "source": [
    "# resolvendo a EDO de segundo grau\n"
   ]
  },
  {
   "cell_type": "markdown",
   "metadata": {
    "slideshow": {
     "slide_type": "slide"
    }
   },
   "source": [
    "   $$ y'' + y = (1 + 4 (k \\pi)^2)sin(2 k \\pi x) \\\\\n",
    "y(-1) = y(1) = 0$$"
   ]
  },
  {
   "cell_type": "code",
   "execution_count": 95,
   "metadata": {
    "collapsed": false,
    "slideshow": {
     "slide_type": "subslide"
    }
   },
   "outputs": [
    {
     "data": {
      "image/png": "[encoded data removed]",
      "text/plain": [
       "PyPlot.Figure(PyObject <matplotlib.figure.Figure object at 0x7fe35e89e890>)"
      ]
     },
     "metadata": {},
     "output_type": "display_data"
    },
    {
     "data": {
      "text/plain": [
       "1x2 Array{Float64,2}:\n",
       " 1.09972  8.0"
      ]
     },
     "execution_count": 95,
     "metadata": {},
     "output_type": "execute_result"
    }
   ],
   "source": [
    "M = 10\n",
    "Q = M+2\n",
    "nel =1\n",
    "k = 2\n",
    "fun(x) = (1 + 4*(k*pi)^2)*sin(2*k*pi*x)\n",
    "resp(x) = sin(2*k*pi*x)\n",
    "if Q < M\n",
    "    Q=M\n",
    "end\n",
    "subplot(211)\n",
    "erro = lagrange_oed_plot(M,Q,nel,fun,resp)\n",
    "dof = lagrange_oed_spec(M,Q,nel,fun,resp)\n"
   ]
  },
  {
   "cell_type": "markdown",
   "metadata": {
    "collapsed": true,
    "slideshow": {
     "slide_type": "slide"
    }
   },
   "source": [
    "# Explicações omitidas\n",
    "\n",
    "* Quais funções de base escolher\n",
    "* Qual o mapeamento para ir do método Local para o Global\n",
    "* Static condensation\n"
   ]
  },
  {
   "cell_type": "markdown",
   "metadata": {
    "collapsed": true,
    "slideshow": {
     "slide_type": "slide"
    }
   },
   "source": [
    "<img src = \"Figuras/test.gif\" >"
   ]
  },
  {
   "cell_type": "code",
   "execution_count": null,
   "metadata": {
    "collapsed": true,
    "slideshow": {
     "slide_type": "slide"
    }
   },
   "outputs": [],
   "source": []
  },
  {
   "cell_type": "code",
   "execution_count": null,
   "metadata": {
    "collapsed": true,
    "slideshow": {
     "slide_type": "slide"
    }
   },
   "outputs": [],
   "source": []
  }
 ],
 "metadata": {
  "celltoolbar": "Slideshow",
  "kernelspec": {
   "display_name": "Julia 0.5.0",
   "language": "julia",
   "name": "julia-0.5"
  },
  "language_info": {
   "file_extension": ".jl",
   "mimetype": "application/julia",
   "name": "julia",
   "version": "0.5.0"
  }
 },
 "nbformat": 4,
 "nbformat_minor": 0
}
